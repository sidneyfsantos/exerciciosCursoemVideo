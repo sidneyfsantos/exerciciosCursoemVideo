{
  "nbformat": 4,
  "nbformat_minor": 0,
  "metadata": {
    "colab": {
      "name": "Cv_Ex96 a 98.ipynb",
      "provenance": [],
      "collapsed_sections": [],
      "authorship_tag": "ABX9TyPf24eWQ/62YVh3lCsw8IPh",
      "include_colab_link": true
    },
    "kernelspec": {
      "name": "python3",
      "display_name": "Python 3"
    },
    "language_info": {
      "name": "python"
    }
  },
  "cells": [
    {
      "cell_type": "markdown",
      "metadata": {
        "id": "view-in-github",
        "colab_type": "text"
      },
      "source": [
        "<a href=\"https://colab.research.google.com/github/sidneyfsantos/exerciciosCursoemVideo/blob/main/Cv_Ex96_a_98.ipynb\" target=\"_parent\"><img src=\"https://colab.research.google.com/assets/colab-badge.svg\" alt=\"Open In Colab\"/></a>"
      ]
    },
    {
      "cell_type": "code",
      "source": [
        "!pip install colorama"
      ],
      "metadata": {
        "colab": {
          "base_uri": "https://localhost:8080/"
        },
        "id": "rdGYwVkoqbB-",
        "outputId": "2ce7e625-7191-448a-cd9f-05cbcf21adf9"
      },
      "execution_count": null,
      "outputs": [
        {
          "output_type": "stream",
          "name": "stdout",
          "text": [
            "Looking in indexes: https://pypi.org/simple, https://us-python.pkg.dev/colab-wheels/public/simple/\n",
            "Collecting colorama\n",
            "  Downloading colorama-0.4.5-py2.py3-none-any.whl (16 kB)\n",
            "Installing collected packages: colorama\n",
            "Successfully installed colorama-0.4.5\n"
          ]
        }
      ]
    },
    {
      "cell_type": "code",
      "execution_count": null,
      "metadata": {
        "id": "NzT5dISqmfdd"
      },
      "outputs": [],
      "source": [
        "''' EX 96 faça um programa q função area e mostre a area do terreno\n",
        "'''\n",
        "\n",
        "def area(c,l):\n",
        "  at = c * l\n",
        "  print(f'O terreno comedida de {c} x {l} = {at}m² de área total')\n",
        "\n",
        "\n",
        "area(int(input('Digite o comprimento do terreno: ')), int(input('Digite a largura do terreno: ')))\n"
      ]
    },
    {
      "cell_type": "code",
      "source": [
        "'''EX 97 faça função escreva, recebe texto e mostra o tamanho adaptavel\n",
        "'''\n",
        "from colorama import *\n",
        "def escreva(titulo):\n",
        "  print(Fore.YELLOW + '=' * len(titulo) + Fore.RESET)\n",
        "  print(Fore.RED + titulo.upper() + Fore.RESET)\n",
        "  print(Fore.YELLOW + '=' * len(titulo) + Fore.RESET)\n",
        "\n",
        "escreva('Sidney Ferreira Santos')"
      ],
      "metadata": {
        "colab": {
          "base_uri": "https://localhost:8080/"
        },
        "id": "owTSjWoapnD4",
        "outputId": "2a00a6c6-582b-4b74-a366-f2e9799d253c"
      },
      "execution_count": null,
      "outputs": [
        {
          "output_type": "stream",
          "name": "stdout",
          "text": [
            "\u001b[33m======================\u001b[39m\n",
            "\u001b[31mSIDNEY FERREIRA SANTOS\u001b[39m\n",
            "\u001b[33m======================\u001b[39m\n"
          ]
        }
      ]
    },
    {
      "cell_type": "code",
      "source": [
        "#Ex 98\n",
        "from time import sleep\n",
        "\n",
        "def contador(inicio,fim,passo):\n",
        "  print('Contador de 1 em 1 até 10')\n",
        "  print('~'* 30)\n",
        "  if fim < inicio:\n",
        "    passo = -(passo)\n",
        "    while fim < inicio:\n",
        "      print(inicio,end=\" \")\n",
        "      inicio += passo\n",
        "    print('FIM')\n",
        "    print('~'* 30) \n",
        "  else:\n",
        "    while inicio < fim:\n",
        "      print(inicio,end = ' ')\n",
        "      inicio += passo\n",
        "      \n",
        "    print('FIM')\n",
        "    print('~'* 30)  \n",
        "\n",
        "\n",
        "\n",
        "contador(1,10,1)\n",
        "contador(10,1,2)\n"
      ],
      "metadata": {
        "colab": {
          "base_uri": "https://localhost:8080/"
        },
        "id": "jbEhqTi6v1jl",
        "outputId": "f5343e8e-ccf1-4a85-da50-9cd9933184a8"
      },
      "execution_count": null,
      "outputs": [
        {
          "output_type": "stream",
          "name": "stdout",
          "text": [
            "Contador de 1 em 1 até 10\n",
            "~~~~~~~~~~~~~~~~~~~~~~~~~~~~~~\n",
            "1 2 3 4 5 6 7 8 9 FIM\n",
            "~~~~~~~~~~~~~~~~~~~~~~~~~~~~~~\n",
            "Contador de 1 em 1 até 10\n",
            "~~~~~~~~~~~~~~~~~~~~~~~~~~~~~~\n",
            "10 8 6 4 2 FIM\n",
            "~~~~~~~~~~~~~~~~~~~~~~~~~~~~~~\n"
          ]
        }
      ]
    },
    {
      "cell_type": "code",
      "source": [
        "def cont(i,f,p):\n",
        "  aux=0\n",
        "  if p < 0:\n",
        "    p = p*(-1)\n",
        "  elif p == 0:\n",
        "    p = 1\n",
        "  else:\n",
        "    p = p\n",
        "  if f < i:\n",
        "    p = -(p)\n",
        "    aux = i\n",
        "    i = f\n",
        "    f = aux\n",
        " \n",
        "    while i < f+1:\n",
        "      print(f,end=' ')\n",
        "      f += p\n",
        "    print()\n",
        "  else:    \n",
        "    while i < f+1:\n",
        "      print(i,end=' ')\n",
        "      i += p\n",
        "    print()\n",
        "cont(1,10,1)\n",
        "cont(10,1,2)\n",
        "\n",
        "print('Agora é sua vez de personalizar o contador: ')\n",
        "i = int(input('Inicio: '))\n",
        "f = int(input('Fim: '))\n",
        "p = int(input('Passo: '))\n",
        "\n",
        "cont(i,f,p)"
      ],
      "metadata": {
        "id": "MtX2DjwK5qbY"
      },
      "execution_count": null,
      "outputs": []
    },
    {
      "cell_type": "code",
      "source": [
        "'''Ex 99 faça um progrma 'maior' que receba varios parametro inteiros, analisar os valores e dizer qual maior.'''\n",
        "from time import sleep\n",
        "\n",
        "def maior(*num):\n",
        "  num = sorted(num,reverse=True)\n",
        "  t = len(num)  \n",
        "  print('Analisando os valores.')\n",
        "  for i in num:\n",
        "    print(f'{i}',end = ' ')\n",
        "    sleep(0.5)\n",
        "  sleep(0.5)\n",
        "  print(f'Foram sorteados {t} numeros.')\n",
        "  sleep(0.5)\n",
        "  print(f'O maior numero foi {num[0]}')\n",
        "  \n",
        "\n",
        "\n",
        "maior(5,8,13,7,3)\n",
        "maior(11,5,7,15,0,1,3)\n",
        "  \n",
        "\n"
      ],
      "metadata": {
        "colab": {
          "base_uri": "https://localhost:8080/"
        },
        "id": "IVYv_IJ-d9Rs",
        "outputId": "447e75f8-2da3-4379-aef7-b4eb081730b7"
      },
      "execution_count": null,
      "outputs": [
        {
          "output_type": "stream",
          "name": "stdout",
          "text": [
            "Analisando os valores.\n",
            "13 8 7 5 3 Foram sorteados 5 numeros.\n",
            "O maior numero foi None13\n",
            "Analisando os valores.\n",
            "15 11 7 5 3 1 0 Foram sorteados 7 numeros.\n",
            "O maior numero foi None15\n"
          ]
        }
      ]
    },
    {
      "cell_type": "code",
      "source": [
        "#EX 100"
      ],
      "metadata": {
        "id": "xVQH1BYahMfe"
      },
      "execution_count": null,
      "outputs": []
    }
  ]
}